{
 "cells": [
  {
   "cell_type": "code",
   "execution_count": 6,
   "metadata": {},
   "outputs": [],
   "source": [
    "from time import sleep\n",
    "from pandas import read_csv\n",
    "from webbrowser import open_new"
   ]
  },
  {
   "cell_type": "code",
   "execution_count": 7,
   "metadata": {},
   "outputs": [],
   "source": [
    "df = read_csv(\"https://www.neonscience.org/science-design/field-sites/export\")"
   ]
  },
  {
   "cell_type": "code",
   "execution_count": 8,
   "metadata": {},
   "outputs": [
    {
     "data": {
      "text/plain": [
       "Site Name                                                      Little Rock Lake\n",
       "Site ID                                                                    LIRO\n",
       "Domain Name                                                         Great Lakes\n",
       "Domain Number                                                               D05\n",
       "State                                                                        WI\n",
       "Nearest Town                                                                NaN\n",
       "Latitude                                                                45.9983\n",
       "Longitude                                                              -89.7048\n",
       "Site Type                                                   Relocatable Aquatic\n",
       "Site Subtype                                                               Lake\n",
       "Site Host                             Wisconsin Department of Natural Resources\n",
       "Civil Construction                                                     Complete\n",
       "Civil Construction Text                                                     NaN\n",
       "Sensor Installation                                                    Complete\n",
       "Sensor Installation Text                                                    NaN\n",
       "Field Sampling                                                          Ongoing\n",
       "Field Sampling Text                                                         NaN\n",
       "Data Status                                                 Partially Available\n",
       "Data Status Text                                                            NaN\n",
       "Construction Status                                                    Complete\n",
       "Construction Status Text                                                    NaN\n",
       "Overview                      LIRO is a seepage lake located in Wisconsin an...\n",
       "Site Access                                                                 Yes\n",
       "Mean Annual Temperature                                             4.4C/39.92F\n",
       "Mean Annual Precipitation                                                793 mm\n",
       "Dominant NLCD Classes                            Deciduous Forest, Mixed Forest\n",
       "Elevation                                                                 502 m\n",
       "Site Characteristics                                                        NaN\n",
       "Data Collection Types         Airborne Remote Sensing Surveys\\nRemote sensin...\n",
       "Adjacent Research Networks                                                  NaN\n",
       "Field Office                  Domain 05\\n7647 Notre Dame LaneLand O Lakes, W...\n",
       "Gallery                                                                     NaN\n",
       "Thumbnail                                                                   NaN\n",
       "Overview Image                                                              NaN\n",
       "Google Maps Embed Code                                                      NaN\n",
       "Related Content                                                             NaN\n",
       "Name: 0, dtype: object"
      ]
     },
     "execution_count": 8,
     "metadata": {},
     "output_type": "execute_result"
    }
   ],
   "source": [
    "df.loc[0]"
   ]
  },
  {
   "cell_type": "code",
   "execution_count": 10,
   "metadata": {},
   "outputs": [
    {
     "name": "stdout",
     "output_type": "stream",
     "text": [
      "https://daac.ornl.gov/cgi-bin/viz/download.pl?lt=45.998269&ln=-89.704767&d=smap\n"
     ]
    }
   ],
   "source": [
    "lat, lon = df.Latitude[0], df.Longitude[0]\n",
    "url = f\"https://daac.ornl.gov/cgi-bin/viz/download.pl?lt={lat}&ln={lon}&d=smap\" \n",
    "print(url)"
   ]
  },
  {
   "cell_type": "code",
   "execution_count": 12,
   "metadata": {},
   "outputs": [
    {
     "name": "stdout",
     "output_type": "stream",
     "text": [
      "[1/81] Downloading:\tLittle Rock Lake \n",
      "[2/81] Downloading:\tWest St Louis Creek \n",
      "[3/81] Downloading:\tPu'u Maka'ala Natural Area Reserve \n",
      "[4/81] Downloading:\tFlint River \n",
      "[5/81] Downloading:\tMcDiffett Creek \n",
      "[6/81] Downloading:\tLewis Run \n"
     ]
    },
    {
     "ename": "KeyboardInterrupt",
     "evalue": "",
     "output_type": "error",
     "traceback": [
      "\u001b[0;31m---------------------------------------------------------------------------\u001b[0m",
      "\u001b[0;31mKeyboardInterrupt\u001b[0m                         Traceback (most recent call last)",
      "\u001b[0;32m<ipython-input-12-2eb7e5d8f81a>\u001b[0m in \u001b[0;36m<module>\u001b[0;34m\u001b[0m\n\u001b[1;32m      3\u001b[0m     \u001b[0mprint\u001b[0m\u001b[0;34m(\u001b[0m\u001b[0;34mf\"[{ix+1}/{df.index.size}] Downloading:\\t{row['Site Name']} \"\u001b[0m\u001b[0;34m)\u001b[0m\u001b[0;34m\u001b[0m\u001b[0;34m\u001b[0m\u001b[0m\n\u001b[1;32m      4\u001b[0m     \u001b[0mopen_new\u001b[0m\u001b[0;34m(\u001b[0m\u001b[0;34mf\"https://daac.ornl.gov/cgi-bin/viz/download.pl?lt={row.Latitude}&ln={row.Longitude}&d=smap\"\u001b[0m\u001b[0;34m)\u001b[0m\u001b[0;34m\u001b[0m\u001b[0;34m\u001b[0m\u001b[0m\n\u001b[0;32m----> 5\u001b[0;31m     \u001b[0msleep\u001b[0m\u001b[0;34m(\u001b[0m\u001b[0;36m2\u001b[0m\u001b[0;34m)\u001b[0m\u001b[0;34m\u001b[0m\u001b[0;34m\u001b[0m\u001b[0m\n\u001b[0m",
      "\u001b[0;31mKeyboardInterrupt\u001b[0m: "
     ]
    }
   ],
   "source": [
    "for ix, row in df.iterrows():\n",
    "\n",
    "    print(f\"[{ix+1}/{df.index.size}] Downloading:\\t{row['Site Name']} \") \n",
    "    open_new(f\"https://daac.ornl.gov/cgi-bin/viz/download.pl?lt={row.Latitude}&ln={row.Longitude}&d=smap\") \n",
    "    sleep(2)"
   ]
  },
  {
   "cell_type": "code",
   "execution_count": null,
   "metadata": {},
   "outputs": [],
   "source": []
  }
 ],
 "metadata": {
  "kernelspec": {
   "display_name": "Python 3",
   "language": "python",
   "name": "python3"
  },
  "language_info": {
   "codemirror_mode": {
    "name": "ipython",
    "version": 3
   },
   "file_extension": ".py",
   "mimetype": "text/x-python",
   "name": "python",
   "nbconvert_exporter": "python",
   "pygments_lexer": "ipython3",
   "version": "3.7.7"
  }
 },
 "nbformat": 4,
 "nbformat_minor": 4
}
